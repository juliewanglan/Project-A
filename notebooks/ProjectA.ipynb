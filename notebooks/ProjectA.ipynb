{
 "cells": [
  {
   "cell_type": "code",
   "execution_count": 1,
   "id": "fc603c17",
   "metadata": {},
   "outputs": [
    {
     "name": "stderr",
     "output_type": "stream",
     "text": [
      "[nltk_data] Downloading package stopwords to\n",
      "[nltk_data]     /Users/juliewang/nltk_data...\n",
      "[nltk_data]   Package stopwords is already up-to-date!\n"
     ]
    }
   ],
   "source": [
    "import numpy as np\n",
    "import pandas as pd\n",
    "import os\n",
    "from sklearn.pipeline import Pipeline\n",
    "from sklearn.feature_extraction.text import CountVectorizer, TfidfTransformer # copied over from ipynb\n",
    "from sklearn.model_selection import train_test_split, GridSearchCV\n",
    "from sklearn.linear_model import LogisticRegression\n",
    "from sklearn.metrics import accuracy_score, confusion_matrix\n",
    "\n",
    "import nltk\n",
    "from nltk.corpus import stopwords # tried to use this vocab but ended up with lower accuracy than the built in stopwords\n",
    "nltk.download('stopwords')\n",
    "\n",
    "SEED = 12345"
   ]
  },
  {
   "cell_type": "code",
   "execution_count": 2,
   "id": "e1663b59",
   "metadata": {},
   "outputs": [],
   "source": [
    "from matplotlib import pyplot as plt\n",
    "\n",
    "import seaborn as sns\n",
    "#This sets the default style for all figures. \n",
    "sns.set('notebook', font_scale=1.25, style='whitegrid')"
   ]
  },
  {
   "cell_type": "code",
   "execution_count": 3,
   "id": "d7c93551",
   "metadata": {},
   "outputs": [
    {
     "name": "stdout",
     "output_type": "stream",
     "text": [
      "Shape of x_train_df: (2400, 2)\n",
      "Shape of y_train_df: (2400, 1)\n",
      "row     0 | y = 0 | Oh and I forgot to also mention the weird color effect it has on your phone.\n",
      "row     1 | y = 0 | THAT one didn't work either.\n",
      "row     2 | y = 0 | Waste of 13 bucks.\n",
      "row     3 | y = 0 | Product is useless, since it does not have enough charging current to charge the 2 cellphones I was planning to use it with.\n",
      "row     4 | y = 0 | None of the three sizes they sent with the headset would stay in my ears.\n",
      "...\n",
      "row  2395 | y = 1 | The sweet potato fries were very good and seasoned well.\n",
      "row  2396 | y = 1 | I could eat their bruschetta all day it is devine.\n",
      "row  2397 | y = 1 | Ambience is perfect.\n",
      "row  2398 | y = 1 | We ordered the duck rare and it was pink and tender on the inside with a nice char on the outside.\n",
      "row  2399 | y = 1 | Service was good and the company was better!\n"
     ]
    }
   ],
   "source": [
    "# load the csv files\n",
    "if __name__ == '__main__':\n",
    "    data_dir = '../data_reviews'\n",
    "    x_train_df = pd.read_csv(os.path.join(data_dir, 'x_train.csv'))\n",
    "    y_train_df = pd.read_csv(os.path.join(data_dir, 'y_train.csv'))\n",
    "\n",
    "    N, n_cols = x_train_df.shape\n",
    "    print(\"Shape of x_train_df: (%d, %d)\" % (N,n_cols))\n",
    "    print(\"Shape of y_train_df: %s\" % str(y_train_df.shape))\n",
    "\n",
    "    # Print out the first five rows and last five rows\n",
    "    tr_text_list = x_train_df['text'].values.tolist()\n",
    "    rows = np.arange(0, 5)\n",
    "    for row_id in rows:\n",
    "        text = tr_text_list[row_id]\n",
    "        print(\"row %5d | y = %d | %s\" % (row_id, y_train_df.values[row_id,0], text))\n",
    "\n",
    "    print(\"...\")\n",
    "    rows = np.arange(N - 5, N)\n",
    "    for row_id in rows:\n",
    "        text = tr_text_list[row_id]\n",
    "        print(\"row %5d | y = %d | %s\" % (row_id, y_train_df.values[row_id,0], text))"
   ]
  },
  {
   "cell_type": "markdown",
   "id": "c993c88a",
   "metadata": {},
   "source": [
    "# Problem 1:"
   ]
  },
  {
   "cell_type": "code",
   "execution_count": 4,
   "id": "3257812c",
   "metadata": {},
   "outputs": [],
   "source": [
    "# Splitting up training data into training set and validation set\n",
    "x_train, x_va, y_train, y_va = train_test_split(x_train_df, y_train_df, test_size=0.2, random_state=SEED)\n",
    "y_train = y_train.values.ravel()\n",
    "y_va = y_va.values.ravel()"
   ]
  },
  {
   "cell_type": "code",
   "execution_count": 5,
   "id": "6ba347e4",
   "metadata": {},
   "outputs": [],
   "source": [
    "# define logistic regression pipeline function\n",
    "def make_log_regr_pipeline():\n",
    "    pipeline = Pipeline(\n",
    "        steps=[\n",
    "         ('vectorizer', CountVectorizer(\n",
    "             lowercase=True, # make the text uniformly lowercase\n",
    "             stop_words='english', # remove filler words ('a', 'the', etc.) present in the stopwords nltk library\n",
    "             analyzer='word', # breakdown text into words for feature analysis\n",
    "             max_df=0.50, # ignore words with a frequency strictly higher than 50%\n",
    "             token_pattern=r'\\b\\w+\\b' # removes punctuation and numbers\n",
    "             )\n",
    "            ),\n",
    "         ('log_regr', LogisticRegression(penalty='l2', max_iter=10000)),\n",
    "        ])\n",
    "    return pipeline"
   ]
  },
  {
   "cell_type": "code",
   "execution_count": 6,
   "id": "36be548b",
   "metadata": {},
   "outputs": [],
   "source": [
    "# initialize pipeline\n",
    "pipe = make_log_regr_pipeline()\n",
    "\n",
    "# make hyperparameter C grid (regularization strength), 20 logspaced values from 10e-6 to 10e6\n",
    "C_grid = np.logspace(-6, 6, 20)\n",
    "param_grid = {'log_regr__C': C_grid}"
   ]
  },
  {
   "cell_type": "code",
   "execution_count": 7,
   "id": "aa060fef",
   "metadata": {},
   "outputs": [
    {
     "name": "stdout",
     "output_type": "stream",
     "text": [
      "Training Accuracy: 0.9734375\n",
      "Validation Accuracy: 0.8166666666666667\n",
      "Best C: {'log_regr__C': 2.06913808111479}\n"
     ]
    }
   ],
   "source": [
    "# make hyperparameter C grid (regularization strength), 20 logspaced values from 10e-6 to 10e6\n",
    "C_grid = np.logspace(-6, 6, 20)\n",
    "param_grid = {'log_regr__C': C_grid}\n",
    "\n",
    "# perform grid search and fit the model\n",
    "grid_search = GridSearchCV(\n",
    "    pipe, # estimator\n",
    "    param_grid=param_grid, # hyperparameter C\n",
    "    cv=5, # 5-fold cross validation\n",
    "    scoring='roc_auc' # calculates AUROC to compare the hyperparameter(s)\n",
    ")\n",
    "\n",
    "grid_search.fit(x_train['text'], y_train)\n",
    "grid_predictions_va = grid_search.predict(x_va['text'])\n",
    "grid_predictions_tr = grid_search.predict(x_train['text'])\n",
    "\n",
    "# calculate and print accuracy for training and validation datasets\n",
    "print(\"Training Accuracy:\", accuracy_score(y_train, grid_predictions_tr))\n",
    "print(\"Validation Accuracy:\", accuracy_score(y_va, grid_predictions_va))\n",
    "\n",
    "# best parameter found in the grid search\n",
    "print(\"Best C:\", grid_search.best_params_)"
   ]
  },
  {
   "cell_type": "code",
   "execution_count": 20,
   "metadata": {},
   "outputs": [
    {
     "name": "stdout",
     "output_type": "stream",
     "text": [
      "FP data:\n",
      "FP indices chosen: [4, 7, 8, 13, 34, 42, 43, 47, 52, 65]\n",
      "FP predictions and true sentiments [1 1 1 1 1 1 1 1 1 1] [0 0 0 0 0 0 0 0 0 0]\n",
      "Sentences that were FP: \n",
      "\n"
     ]
    },
    {
     "data": {
      "text/html": [
       "<style type=\"text/css\">\n",
       "#T_0a256_row0_col0, #T_0a256_row0_col1, #T_0a256_row1_col0, #T_0a256_row1_col1, #T_0a256_row2_col0, #T_0a256_row2_col1, #T_0a256_row3_col0, #T_0a256_row3_col1, #T_0a256_row4_col0, #T_0a256_row4_col1, #T_0a256_row5_col0, #T_0a256_row5_col1, #T_0a256_row6_col0, #T_0a256_row6_col1, #T_0a256_row7_col0, #T_0a256_row7_col1, #T_0a256_row8_col0, #T_0a256_row8_col1, #T_0a256_row9_col0, #T_0a256_row9_col1 {\n",
       "  text_align: right;\n",
       "}\n",
       "</style>\n",
       "<table id=\"T_0a256\">\n",
       "  <thead>\n",
       "    <tr>\n",
       "      <th class=\"blank level0\" >&nbsp;</th>\n",
       "      <th id=\"T_0a256_level0_col0\" class=\"col_heading level0 col0\" >website_name</th>\n",
       "      <th id=\"T_0a256_level0_col1\" class=\"col_heading level0 col1\" >text</th>\n",
       "    </tr>\n",
       "  </thead>\n",
       "  <tbody>\n",
       "    <tr>\n",
       "      <th id=\"T_0a256_level0_row0\" class=\"row_heading level0 row0\" >1907</th>\n",
       "      <td id=\"T_0a256_row0_col0\" class=\"data row0 col0\" >yelp</td>\n",
       "      <td id=\"T_0a256_row0_col1\" class=\"data row0 col1\" >for 40 bucks a head, i really expect better food.</td>\n",
       "    </tr>\n",
       "    <tr>\n",
       "      <th id=\"T_0a256_level0_row1\" class=\"row_heading level0 row1\" >1964</th>\n",
       "      <td id=\"T_0a256_row1_col0\" class=\"data row1 col0\" >yelp</td>\n",
       "      <td id=\"T_0a256_row1_col1\" class=\"data row1 col1\" >I also decided not to send it back because our waitress looked like she was on the verge of having a heart attack.</td>\n",
       "    </tr>\n",
       "    <tr>\n",
       "      <th id=\"T_0a256_level0_row2\" class=\"row_heading level0 row2\" >846</th>\n",
       "      <td id=\"T_0a256_row2_col0\" class=\"data row2 col0\" >imdb</td>\n",
       "      <td id=\"T_0a256_row2_col1\" class=\"data row2 col1\" >But this movie is not funny, considering the ridiculousness of it.  </td>\n",
       "    </tr>\n",
       "    <tr>\n",
       "      <th id=\"T_0a256_level0_row3\" class=\"row_heading level0 row3\" >1743</th>\n",
       "      <td id=\"T_0a256_row3_col0\" class=\"data row3 col0\" >yelp</td>\n",
       "      <td id=\"T_0a256_row3_col1\" class=\"data row3 col1\" >I was disgusted because I was pretty sure that was human hair.</td>\n",
       "    </tr>\n",
       "    <tr>\n",
       "      <th id=\"T_0a256_level0_row4\" class=\"row_heading level0 row4\" >193</th>\n",
       "      <td id=\"T_0a256_row4_col0\" class=\"data row4 col0\" >amazon</td>\n",
       "      <td id=\"T_0a256_row4_col1\" class=\"data row4 col1\" >The loudspeaker option is great, the bumpers with the lights is very ... appealing.</td>\n",
       "    </tr>\n",
       "    <tr>\n",
       "      <th id=\"T_0a256_level0_row5\" class=\"row_heading level0 row5\" >1640</th>\n",
       "      <td id=\"T_0a256_row5_col0\" class=\"data row5 col0\" >yelp</td>\n",
       "      <td id=\"T_0a256_row5_col1\" class=\"data row5 col1\" >When my order arrived, one of the gyros was missing.</td>\n",
       "    </tr>\n",
       "    <tr>\n",
       "      <th id=\"T_0a256_level0_row6\" class=\"row_heading level0 row6\" >42</th>\n",
       "      <td id=\"T_0a256_row6_col0\" class=\"data row6 col0\" >amazon</td>\n",
       "      <td id=\"T_0a256_row6_col1\" class=\"data row6 col1\" >Unfortunately the ability to actually know you are receiving a call is a rather important feature and this phone is pitiful in that respect.</td>\n",
       "    </tr>\n",
       "    <tr>\n",
       "      <th id=\"T_0a256_level0_row7\" class=\"row_heading level0 row7\" >1706</th>\n",
       "      <td id=\"T_0a256_row7_col0\" class=\"data row7 col0\" >yelp</td>\n",
       "      <td id=\"T_0a256_row7_col1\" class=\"data row7 col1\" >Soggy and not good.</td>\n",
       "    </tr>\n",
       "    <tr>\n",
       "      <th id=\"T_0a256_level0_row8\" class=\"row_heading level0 row8\" >1657</th>\n",
       "      <td id=\"T_0a256_row8_col0\" class=\"data row8 col0\" >yelp</td>\n",
       "      <td id=\"T_0a256_row8_col1\" class=\"data row8 col1\" >She ordered a toasted English muffin that came out untoasted.</td>\n",
       "    </tr>\n",
       "    <tr>\n",
       "      <th id=\"T_0a256_level0_row9\" class=\"row_heading level0 row9\" >204</th>\n",
       "      <td id=\"T_0a256_row9_col0\" class=\"data row9 col0\" >amazon</td>\n",
       "      <td id=\"T_0a256_row9_col1\" class=\"data row9 col1\" >If you plan to use this in a car forget about it.</td>\n",
       "    </tr>\n",
       "  </tbody>\n",
       "</table>\n"
      ],
      "text/plain": [
       "<pandas.io.formats.style.Styler at 0x16e4c7d00>"
      ]
     },
     "execution_count": 20,
     "metadata": {},
     "output_type": "execute_result"
    }
   ],
   "source": [
    "_, fp, fn, _ = confusion_matrix(y_va, grid_predictions_va).ravel()\n",
    "FP = []\n",
    "FN = []\n",
    "\n",
    "for i, pred in enumerate(grid_predictions_va):\n",
    "    if pred == 1 and y_va[i] == 0:\n",
    "        FP.append(i)\n",
    "    if pred == 0 and y_va[i] == 1:\n",
    "        FN.append(i)\n",
    "\n",
    "# print(FP)\n",
    "\n",
    "# print(x_va.iloc[FP[0]])\n",
    "\n",
    "# pd.set_option('display.max_colwidth', None)\n",
    "# pd.set_option(\"display.colheader_justify\",\"left\")\n",
    "pd.set_option('display.max_colwidth', 10000)\n",
    "\n",
    "va_idx_FP = FP[0:10]\n",
    "va_sent_predict_FP = grid_predictions_va[va_idx_FP]\n",
    "va_sent_true_FP = y_va[va_idx_FP]\n",
    "FP_styled_df = x_va.iloc[va_idx_FP].style.set_properties(**{'text_align': 'right'})\n",
    "\n",
    "print(\"FP data:\")\n",
    "print(\"FP indices chosen:\", va_idx_FP)\n",
    "print(\"FP predictions and true sentiments\", va_sent_predict_FP, va_sent_true_FP)\n",
    "print(\"Sentences that were FP: \\n\")\n",
    "FP_styled_df"
   ]
  },
  {
   "cell_type": "code",
   "execution_count": 22,
   "id": "858469e4",
   "metadata": {},
   "outputs": [
    {
     "name": "stdout",
     "output_type": "stream",
     "text": [
      "FN data:\n",
      "FN indices chosen: [20, 41, 48, 67, 69, 79, 88, 96, 116, 139]\n",
      "FN predictions and true sentiments [0 0 0 0 0 0 0 0 0 0] [1 1 1 1 1 1 1 1 1 1]\n",
      "Sentences that were FN: \n",
      "\n"
     ]
    },
    {
     "data": {
      "text/html": [
       "<style type=\"text/css\">\n",
       "#T_659da_row0_col0, #T_659da_row0_col1, #T_659da_row1_col0, #T_659da_row1_col1, #T_659da_row2_col0, #T_659da_row2_col1, #T_659da_row3_col0, #T_659da_row3_col1, #T_659da_row4_col0, #T_659da_row4_col1, #T_659da_row5_col0, #T_659da_row5_col1, #T_659da_row6_col0, #T_659da_row6_col1, #T_659da_row7_col0, #T_659da_row7_col1, #T_659da_row8_col0, #T_659da_row8_col1, #T_659da_row9_col0, #T_659da_row9_col1 {\n",
       "  text_align: right;\n",
       "}\n",
       "</style>\n",
       "<table id=\"T_659da\">\n",
       "  <thead>\n",
       "    <tr>\n",
       "      <th class=\"blank level0\" >&nbsp;</th>\n",
       "      <th id=\"T_659da_level0_col0\" class=\"col_heading level0 col0\" >website_name</th>\n",
       "      <th id=\"T_659da_level0_col1\" class=\"col_heading level0 col1\" >text</th>\n",
       "    </tr>\n",
       "  </thead>\n",
       "  <tbody>\n",
       "    <tr>\n",
       "      <th id=\"T_659da_level0_row0\" class=\"row_heading level0 row0\" >2378</th>\n",
       "      <td id=\"T_659da_row0_col0\" class=\"data row0 col0\" >yelp</td>\n",
       "      <td id=\"T_659da_row0_col1\" class=\"data row0 col1\" >Lordy, the Khao Soi is a dish that is not to be missed for curry lovers!</td>\n",
       "    </tr>\n",
       "    <tr>\n",
       "      <th id=\"T_659da_level0_row1\" class=\"row_heading level0 row1\" >1450</th>\n",
       "      <td id=\"T_659da_row1_col0\" class=\"data row1 col0\" >imdb</td>\n",
       "      <td id=\"T_659da_row1_col1\" class=\"data row1 col1\" >This is a witty and delightful adaptation of the Dr Seuss book, brilliantly animated by UPA's finest and thoroughly deserving of its Academy Award.  </td>\n",
       "    </tr>\n",
       "    <tr>\n",
       "      <th id=\"T_659da_level0_row2\" class=\"row_heading level0 row2\" >1539</th>\n",
       "      <td id=\"T_659da_row2_col0\" class=\"data row2 col0\" >imdb</td>\n",
       "      <td id=\"T_659da_row2_col1\" class=\"data row2 col1\" >You wont regret it!  </td>\n",
       "    </tr>\n",
       "    <tr>\n",
       "      <th id=\"T_659da_level0_row3\" class=\"row_heading level0 row3\" >2374</th>\n",
       "      <td id=\"T_659da_row3_col0\" class=\"data row3 col0\" >yelp</td>\n",
       "      <td id=\"T_659da_row3_col1\" class=\"data row3 col1\" >The goat taco didn't skimp on the meat and wow what FLAVOR!</td>\n",
       "    </tr>\n",
       "    <tr>\n",
       "      <th id=\"T_659da_level0_row4\" class=\"row_heading level0 row4\" >1563</th>\n",
       "      <td id=\"T_659da_row4_col0\" class=\"data row4 col0\" >imdb</td>\n",
       "      <td id=\"T_659da_row4_col1\" class=\"data row4 col1\" >I don't think you will be disappointed.  </td>\n",
       "    </tr>\n",
       "    <tr>\n",
       "      <th id=\"T_659da_level0_row5\" class=\"row_heading level0 row5\" >1425</th>\n",
       "      <td id=\"T_659da_row5_col0\" class=\"data row5 col0\" >imdb</td>\n",
       "      <td id=\"T_659da_row5_col1\" class=\"data row5 col1\" >The characters are fleshed out surprisingly well, particularly Grimes and Blake, and all the actors deliver their sharply scripted lines with just the right amount of deadpan tongue in cheek to make the dialogue both hilarious and realistic.  </td>\n",
       "    </tr>\n",
       "    <tr>\n",
       "      <th id=\"T_659da_level0_row6\" class=\"row_heading level0 row6\" >492</th>\n",
       "      <td id=\"T_659da_row6_col0\" class=\"data row6 col0\" >amazon</td>\n",
       "      <td id=\"T_659da_row6_col1\" class=\"data row6 col1\" >Their Research and Development division obviously knows what they're doing.</td>\n",
       "    </tr>\n",
       "    <tr>\n",
       "      <th id=\"T_659da_level0_row7\" class=\"row_heading level0 row7\" >666</th>\n",
       "      <td id=\"T_659da_row7_col0\" class=\"data row7 col0\" >amazon</td>\n",
       "      <td id=\"T_659da_row7_col1\" class=\"data row7 col1\" >I did not have any problem with this item and would order it again if needed.</td>\n",
       "    </tr>\n",
       "    <tr>\n",
       "      <th id=\"T_659da_level0_row8\" class=\"row_heading level0 row8\" >1452</th>\n",
       "      <td id=\"T_659da_row8_col0\" class=\"data row8 col0\" >imdb</td>\n",
       "      <td id=\"T_659da_row8_col1\" class=\"data row8 col1\" >He's a national treasure.  </td>\n",
       "    </tr>\n",
       "    <tr>\n",
       "      <th id=\"T_659da_level0_row9\" class=\"row_heading level0 row9\" >2274</th>\n",
       "      <td id=\"T_659da_row9_col0\" class=\"data row9 col0\" >yelp</td>\n",
       "      <td id=\"T_659da_row9_col1\" class=\"data row9 col1\" >The croutons also taste homemade which is an extra plus.</td>\n",
       "    </tr>\n",
       "  </tbody>\n",
       "</table>\n"
      ],
      "text/plain": [
       "<pandas.io.formats.style.Styler at 0x16e5488b0>"
      ]
     },
     "execution_count": 22,
     "metadata": {},
     "output_type": "execute_result"
    }
   ],
   "source": [
    "va_idx_FN = FN[0:10]\n",
    "va_sent_predict_FN = grid_predictions_va[va_idx_FN]\n",
    "va_sent_true_FN = y_va[va_idx_FN]\n",
    "FN_styled_df = x_va.iloc[va_idx_FN].style.set_properties(**{'text_align': 'right'})\n",
    "\n",
    "print(\"FN data:\")\n",
    "print(\"FN indices chosen:\", va_idx_FN)\n",
    "print(\"FN predictions and true sentiments\", va_sent_predict_FN, va_sent_true_FN)\n",
    "print(\"Sentences that were FN: \\n\")\n",
    "FN_styled_df"
   ]
  },
  {
   "cell_type": "code",
   "execution_count": 9,
   "id": "ebdb069e",
   "metadata": {},
   "outputs": [
    {
     "name": "stdout",
     "output_type": "stream",
     "text": [
      "Best C: 2.06913808111479\n",
      "Best AUROC score: 0.8751959512436439\n"
     ]
    },
    {
     "data": {
      "image/png": "[encoded data removed]",
      "text/plain": [
       "<Figure size 1000x600 with 1 Axes>"
      ]
     },
     "metadata": {},
     "output_type": "display_data"
    }
   ],
   "source": [
    " # print best parameter and best score\n",
    "print(f'Best C: {grid_search.best_params_[\"log_regr__C\"]}')\n",
    "print(f'Best AUROC score: {grid_search.best_score_}')\n",
    "\n",
    "# plot the performance of different regularization strengths\n",
    "scores = grid_search.cv_results_['mean_test_score']\n",
    "\n",
    "fig, ax = plt.subplots(figsize=(10, 6))\n",
    "ax.plot(C_grid, scores, marker='o')\n",
    "ax.set_xscale('log')\n",
    "ax.set_xlabel('C (Inverse Regularization Strength)')\n",
    "ax.set_ylabel('Mean AUROC')\n",
    "ax.set_title('Effect of C on AUROC (5-fold CV)')\n",
    "plt.show()"
   ]
  },
  {
   "cell_type": "markdown",
   "id": "76770a3d",
   "metadata": {},
   "source": [
    "The peak of the graph indicates the best C value - this will prevent over- and under-fitting to the training data. "
   ]
  },
  {
   "cell_type": "code",
   "execution_count": 41,
   "metadata": {},
   "outputs": [
    {
     "name": "stdout",
     "output_type": "stream",
     "text": [
      "[1 0 0 0 1 0 0 0 0 0 0 0 0 0 0 0 0 0 0 0 0 1 0 0 0 0 0 0 0 1 0 0 0 0 0 0 0\n",
      " 0 1 1 0 0 0 0 1 0 1 0 0 0 0 0 1 1 0 0 0 0 1 0 0 0 0 0 0 0 0 1 0 0 0 0 0 0\n",
      " 0 0 0 0 0 1 0 0 0 0 0 0 0 0 0 0 0 0 0 0 1 0 0 0 0 1 1 1 0 1 0 1 1 1 1 0 1\n",
      " 0 1 0 1 1 1 1 0 0 0 0 1 1 1 1 1 1 1 0 1 1 1 1 1 0 0 1 1 1 1 0 1 1 1 1 0 1\n",
      " 1 1 1 1 1 1 1 0 1 1 1 1 1 1 1 1 1 1 1 0 1 1 0 1 1 1 0 1 1 0 1 1 1 1 1 1 1\n",
      " 1 1 1 1 1 1 0 0 1 1 1 0 0 1 1 0 0 0 0 0 0 0 0 0 0 0 0 1 0 1 0 1 0 0 0 0 0\n",
      " 1 0 0 0 0 0 0 0 1 0 1 0 0 0 0 0 0 0 0 0 1 0 1 0 0 0 0 0 0 1 0 0 0 0 0 0 0\n",
      " 1 0 0 0 0 0 0 0 0 0 0 0 0 1 0 0 0 0 0 0 0 1 0 1 0 0 0 1 0 0 0 0 0 0 0 1 0\n",
      " 0 0 0 0 1 1 1 1 1 1 0 0 1 0 0 0 0 1 0 1 1 1 0 1 1 1 1 1 1 1 1 0 1 0 1 0 0\n",
      " 1 0 1 1 1 0 1 0 0 1 0 1 1 0 1 0 1 1 0 1 1 1 0 1 1 1 1 0 1 0 1 1 1 1 1 1 1\n",
      " 0 1 1 1 0 1 0 0 1 1 0 1 1 1 1 1 1 0 1 1 0 1 1 1 1 1 1 0 0 1 0 0 0 0 0 0 0\n",
      " 0 0 0 0 0 0 0 0 1 0 0 0 0 0 1 0 1 0 0 1 0 0 1 0 0 0 0 1 0 0 0 0 0 0 0 0 0\n",
      " 0 0 1 1 0 0 0 0 0 0 0 1 0 0 0 0 0 0 1 0 0 1 0 0 0 1 0 0 1 0 1 1 0 0 0 1 0\n",
      " 0 0 0 0 0 0 0 0 0 1 0 0 1 0 0 0 0 0 1 1 1 1 0 0 0 1 1 1 0 1 1 1 1 0 1 1 1\n",
      " 1 0 1 1 1 0 1 1 0 1 1 1 0 1 0 1 0 0 0 0 1 1 1 0 1 1 1 1 1 0 1 1 1 0 1 1 0\n",
      " 1 1 1 0 1 1 1 1 1 1 1 1 1 1 0 1 1 0 0 0 0 1 1 1 1 1 0 1 0 1 1 1 1 1 0 0 0\n",
      " 1 0 1 1 1 1 1 1]\n"
     ]
    }
   ],
   "source": [
    "x_test = pd.read_csv(os.path.join(data_dir, 'x_test.csv'))\n",
    "grid_predictions_test = grid_search.predict(x_test['text'])\n",
    "grid_predictions_test_T = np.transpose(grid_predictions_test)\n",
    "print(str(grid_predictions_test_T))\n",
    "\n",
    "file = open(\"yproba1_test.txt\", \"w+\")\n",
    "for value in grid_predictions_test:\n",
    "    line = str(value) + \"\\n\"\n",
    "    file.write(line)\n",
    "file.close()\n",
    "\n"
   ]
  }
 ],
 "metadata": {
  "kernelspec": {
   "display_name": "Python 3",
   "language": "python",
   "name": "python3"
  },
  "language_info": {
   "codemirror_mode": {
    "name": "ipython",
    "version": 3
   },
   "file_extension": ".py",
   "mimetype": "text/x-python",
   "name": "python",
   "nbconvert_exporter": "python",
   "pygments_lexer": "ipython3",
   "version": "3.10.14"
  }
 },
 "nbformat": 4,
 "nbformat_minor": 5
}
