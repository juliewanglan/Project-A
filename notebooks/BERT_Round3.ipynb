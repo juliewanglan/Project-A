{
 "cells": [
  {
   "cell_type": "markdown",
   "metadata": {},
   "source": [
    "## Show similarity between reviews using the embeddings"
   ]
  },
  {
   "cell_type": "code",
   "execution_count": 1,
   "metadata": {},
   "outputs": [
    {
     "name": "stderr",
     "output_type": "stream",
     "text": [
      "/Users/juliewang/micromamba/envs/cs135_env/lib/python3.10/site-packages/tqdm/auto.py:21: TqdmWarning: IProgress not found. Please update jupyter and ipywidgets. See https://ipywidgets.readthedocs.io/en/stable/user_install.html\n",
      "  from .autonotebook import tqdm as notebook_tqdm\n"
     ]
    }
   ],
   "source": [
    "import torch\n",
    "from transformers import BertTokenizer, BertModel\n",
    "import numpy as np\n",
    "import pandas as pd\n",
    "import os\n",
    "\n",
    "x_train_df = pd.read_csv('../data_reviews/x_train.csv')\n",
    "x_test_df = pd.read_csv('../data_reviews/x_test.csv')\n",
    "y_train_df = pd.read_csv('../data_reviews/y_train.csv')\n",
    "\n",
    "save_dir = os.path.abspath('../data_reviews/')\n",
    "tr_embeddings_ND = np.load(os.path.join(save_dir, 'x_train_BERT_embeddings.npy'))\n",
    "te_embeddings_ND = np.load(os.path.join(save_dir, 'x_test_BERT_embeddings.npy'))\n",
    "\n",
    "# from sklearn.preprocessing import normalize\n",
    "# tr_embeddings_ND = normalize(tr_embeddings_ND)\n",
    "# te_embeddings_ND = normalize(te_embeddings_ND)\n",
    "\n",
    "\n",
    "tr_text_list = x_train_df['text'].values.tolist()\n",
    "te_text_list = x_test_df['text'].values.tolist()"
   ]
  },
  {
   "cell_type": "markdown",
   "metadata": {},
   "source": []
  },
  {
   "cell_type": "code",
   "execution_count": 2,
   "metadata": {},
   "outputs": [],
   "source": [
    "from sklearn.neighbors import KNeighborsClassifier\n",
    "from sklearn.model_selection import StratifiedKFold, cross_val_predict\n",
    "from sklearn.metrics import roc_auc_score\n",
    "\n",
    "SEED = 12345"
   ]
  },
  {
   "cell_type": "code",
   "execution_count": 3,
   "metadata": {},
   "outputs": [],
   "source": [
    "# x_train, x_val, y_train, y_val = train_test_split(tr_embeddings_ND, y_train_df, test_size=0.2, random_state=SEED)"
   ]
  },
  {
   "cell_type": "markdown",
   "metadata": {},
   "source": [
    "# ON TRAINING SET"
   ]
  },
  {
   "cell_type": "code",
   "execution_count": 4,
   "metadata": {},
   "outputs": [
    {
     "name": "stdout",
     "output_type": "stream",
     "text": [
      "Best AUROC score: 0.9299777777777778\n",
      "Optimal number of neighbors: 83\n"
     ]
    }
   ],
   "source": [
    "# Initialize the KFold cross-validation\n",
    "cv = StratifiedKFold(n_splits=5, shuffle=True, random_state=SEED)\n",
    "\n",
    "neighbors = np.linspace(2, 500, dtype=int)\n",
    "results = np.empty(neighbors.shape)\n",
    "\n",
    "# Perform cross-validation for each choice of neighbors\n",
    "for i, neighbor in enumerate(neighbors): \n",
    "    knn = KNeighborsClassifier(n_neighbors=neighbor, weights='distance')\n",
    "    \n",
    "    # Use cross_val_predict to get the predicted probabilities from cross-validation\n",
    "    yhat_cv_pred = cross_val_predict(knn, tr_embeddings_ND, y_train_df.values.ravel(), \n",
    "                                     cv=cv, method='predict_proba')\n",
    "    \n",
    "    # Calculate AUROC using the probabilities from cross-validation\n",
    "    score = roc_auc_score(y_train_df, yhat_cv_pred[:,1])  # Second column is probability for class 1\n",
    "    results[i] = score\n",
    "\n",
    "# Find the best number of neighbors\n",
    "best_neighbors = np.argmax(results)\n",
    "print(f\"Best AUROC score: {results[best_neighbors]}\")\n",
    "print(f\"Optimal number of neighbors: {neighbors[best_neighbors]}\")\n"
   ]
  },
  {
   "cell_type": "markdown",
   "metadata": {},
   "source": [
    "# TESTING"
   ]
  },
  {
   "cell_type": "code",
   "execution_count": 5,
   "metadata": {},
   "outputs": [],
   "source": [
    "# choose some query sentences\n",
    "\n",
    "# use K-nearest neighbors to find the 5 reviews that most closely resemble the query review\n",
    "# for test_id in range(len(x_train)):\n",
    "#     query_QF = tr_embeddings_ND[test_id][np.newaxis, :]\n",
    "knn = KNeighborsClassifier(neighbors[best_neighbors], weights='distance')\n",
    "knn.fit(tr_embeddings_ND, y_train_df.values.ravel())\n",
    "\n",
    "yhat = knn.predict_proba(te_embeddings_ND)\n",
    "yhat_pred = list()\n",
    "for value in yhat[:, 1]:\n",
    "    if value < 0.5:\n",
    "        yhat_pred.append(0)\n",
    "    else:\n",
    "        yhat_pred.append(1)\n",
    "\n",
    "file = open(\"yproba1_test.txt\", \"w+\")\n",
    "for value in yhat_pred:\n",
    "    line = str(value) + \"\\n\"\n",
    "    file.write(line)\n",
    "file.close()\n"
   ]
  },
  {
   "cell_type": "code",
   "execution_count": null,
   "metadata": {},
   "outputs": [],
   "source": []
  }
 ],
 "metadata": {
  "kernelspec": {
   "display_name": "Python 3",
   "language": "python",
   "name": "python3"
  },
  "language_info": {
   "codemirror_mode": {
    "name": "ipython",
    "version": 3
   },
   "file_extension": ".py",
   "mimetype": "text/x-python",
   "name": "python",
   "nbconvert_exporter": "python",
   "pygments_lexer": "ipython3",
   "version": "3.10.14"
  }
 },
 "nbformat": 4,
 "nbformat_minor": 2
}
