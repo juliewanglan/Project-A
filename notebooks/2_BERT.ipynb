{
 "cells": [
  {
   "cell_type": "code",
   "execution_count": 2,
   "metadata": {},
   "outputs": [],
   "source": [
    "# load the csv files\n",
    "data_dir = '../data_reviews'\n",
    "x_train_df = pd.read_csv(os.path.join(data_dir, 'x_train.csv'), header=0)\n",
    "y_train_df = pd.read_csv(os.path.join(data_dir, 'y_train.csv'), header=0)\n",
    "x_test = pd.read_csv(os.path.join(data_dir, 'x_test.csv'))\n",
    "\n",
    "train_df = x_train_df.merge(y_train_df, left_index=True, right_index=True)\n",
    "# assert(x_train_df[0].shape == y_train_df[0].shape)\n",
    "\n",
    "# x_train_df[0] = y_train_df[0]\n",
    "# x_train_df.columns = ['label', 'text']\n",
    "\n",
    "x_train_df.head()\n",
    "train_df\n"
   ]
  },
  {
   "cell_type": "code",
   "execution_count": 3,
   "metadata": {},
   "outputs": [],
   "source": [
    "# Creating training dataframe according to BERT by adding the required columns\n",
    "df_bert = pd.DataFrame({\n",
    "    'id':range(len(train_df)),\n",
    "    'label': train_df['is_positive_sentiment'],\n",
    "    'alpha':['a']*train_df.shape[0],\n",
    "    'text': train_df['text'].replace(r'\\n', ' ', regex=True)\n",
    "})\n",
    "\n",
    "# Splitting training data file into *train* and *dev*\n",
    "df_bert_train, df_bert_val = train_test_split(df_bert, test_size=0.01)\n",
    "\n",
    "df_bert.head()# Import required libraries"
   ]
  },
  {
   "cell_type": "code",
   "execution_count": 5,
   "metadata": {},
   "outputs": [],
   "source": [
    "# Saving dataframes to .tsv format as required by BERT\n",
    "df_bert_train.to_csv('../bert/train.tsv', sep='\\t', index=False, header=False)\n",
    "df_bert_val.to_csv('../bert/val.tsv', sep='\\t', index=False, header=False)\n",
    "df_bert_test.to_csv('../bert/test.tsv', sep='\\t', index=False, header=False)\n"
   ]
  }
 ],
 "metadata": {
  "kernelspec": {
   "display_name": "Python 3",
   "language": "python",
   "name": "python3"
  },
  "language_info": {
   "codemirror_mode": {
    "name": "ipython",
    "version": 3
   },
   "file_extension": ".py",
   "mimetype": "text/x-python",
   "name": "python",
   "nbconvert_exporter": "python",
   "pygments_lexer": "ipython3",
   "version": "3.10.14"
  }
 },
 "nbformat": 4,
 "nbformat_minor": 2
}
