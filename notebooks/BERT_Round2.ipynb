{
 "cells": [
  {
   "cell_type": "markdown",
   "metadata": {},
   "source": [
    "## Show similarity between reviews using the embeddings"
   ]
  },
  {
   "cell_type": "code",
   "execution_count": 1,
   "metadata": {},
   "outputs": [],
   "source": [
    "import torch\n",
    "from transformers import BertTokenizer, BertModel\n",
    "import numpy as np\n",
    "import pandas as pd\n",
    "import os\n",
    "\n",
    "x_train_df = pd.read_csv('../data_reviews/x_train.csv')\n",
    "x_test_df = pd.read_csv('../data_reviews/x_test.csv')\n",
    "y_train_df = pd.read_csv('../data_reviews/y_train.csv')\n",
    "\n",
    "save_dir = os.path.abspath('../data_reviews/')\n",
    "tr_embeddings_ND = np.load(os.path.join(save_dir, 'x_train_BERT_embeddings.npy'))\n",
    "te_embeddings_ND = np.load(os.path.join(save_dir, 'x_test_BERT_embeddings.npy'))\n",
    "\n",
    "tr_text_list = x_train_df['text'].values.tolist()\n",
    "te_text_list = x_test_df['text'].values.tolist()"
   ]
  },
  {
   "cell_type": "code",
   "execution_count": 2,
   "metadata": {},
   "outputs": [],
   "source": [
    "from utils import calc_k_nearest_neighbors"
   ]
  },
  {
   "cell_type": "markdown",
   "metadata": {},
   "source": [
    "# ON TRAINING SET"
   ]
  },
  {
   "cell_type": "code",
   "execution_count": 6,
   "metadata": {},
   "outputs": [],
   "source": [
    "# choose some query sentences\n",
    "# sentence_id_list = [\n",
    "yhat_train_pred = list()\n",
    "# use K-nearest neighbors to find the 5 reviews that most closely resemble the query review\n",
    "for test_id in range(len(tr_embeddings_ND)):\n",
    "    query_QF = tr_embeddings_ND[test_id][np.newaxis, :]\n",
    "    _, nearest_ids_per_query = calc_k_nearest_neighbors(tr_embeddings_ND, query_QF, K=5)\n",
    "    nearest_ids = nearest_ids_per_query[0]\n",
    "\n",
    "    pos = 0\n",
    "    neg = 0\n",
    "\n",
    "    for id in nearest_ids:\n",
    "        sentiment = y_train_df['is_positive_sentiment'].iloc[id]\n",
    "        if sentiment == 0:\n",
    "            neg += 1\n",
    "        else:\n",
    "            pos += 1\n",
    "    \n",
    "    if pos > neg:\n",
    "        yhat_train_pred.append(1)\n",
    "    else:\n",
    "        yhat_train_pred.append(0)\n",
    "\n",
    "    # print('------------------------------------------------------------------------------------')\n",
    "    # print('Reviews that resemble to the sentence : \\n%s'%te_text_list[test_id])\n",
    "    # print('------------------------------------------------------------------------------------')\n",
    "    # for ii, idx in enumerate(nearest_ids):\n",
    "    #     print('%d) %s'%(ii, tr_text_list[idx]))\n",
    "\n",
    "print(yhat_train_pred)\n",
    "\n",
    "ytrue = y_train_df['is_positive_sentiment'].values\n"
   ]
  },
  {
   "cell_type": "markdown",
   "metadata": {},
   "source": [
    "# ON TESTING SET"
   ]
  },
  {
   "cell_type": "code",
   "execution_count": 5,
   "metadata": {},
   "outputs": [],
   "source": [
    "# choose some query sentences\n",
    "# sentence_id_list = [\n",
    "yhat = list()\n",
    "# use K-nearest neighbors to find the 5 reviews that most closely resemble the query review\n",
    "for test_id in range(len(te_embeddings_ND)):\n",
    "    query_QF = te_embeddings_ND[test_id][np.newaxis, :]\n",
    "    _, nearest_ids_per_query = calc_k_nearest_neighbors(tr_embeddings_ND, query_QF, K=5)\n",
    "    nearest_ids = nearest_ids_per_query[0]\n",
    "\n",
    "    pos = 0\n",
    "    neg = 0\n",
    "\n",
    "    for id in nearest_ids:\n",
    "        sentiment = y_train_df['is_positive_sentiment'].iloc[id]\n",
    "        if sentiment == 0:\n",
    "            neg += 1\n",
    "        else:\n",
    "            pos += 1\n",
    "    \n",
    "    if pos > neg:\n",
    "        yhat.append(1)\n",
    "    else:\n",
    "        yhat.append(0)\n",
    "\n",
    "    # print('------------------------------------------------------------------------------------')\n",
    "    # print('Reviews that resemble to the sentence : \\n%s'%te_text_list[test_id])\n",
    "    # print('------------------------------------------------------------------------------------')\n",
    "    # for ii, idx in enumerate(nearest_ids):\n",
    "    #     print('%d) %s'%(ii, tr_text_list[idx]))\n",
    "\n",
    "print(yhat)"
   ]
  }
 ],
 "metadata": {
  "kernelspec": {
   "display_name": "Python 3",
   "language": "python",
   "name": "python3"
  },
  "language_info": {
   "codemirror_mode": {
    "name": "ipython",
    "version": 3
   },
   "file_extension": ".py",
   "mimetype": "text/x-python",
   "name": "python",
   "nbconvert_exporter": "python",
   "pygments_lexer": "ipython3",
   "version": "3.10.14"
  }
 },
 "nbformat": 4,
 "nbformat_minor": 2
}
